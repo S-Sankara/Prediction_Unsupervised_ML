{
 "cells": [
  {
   "cell_type": "code",
   "execution_count": null,
   "id": "fleet-fields",
   "metadata": {},
   "outputs": [],
   "source": [
    "# Importing Modules \n",
    "import numpy as np \n",
    "import pandas as pd \n",
    "import matplotlib.pyplot as plt "
   ]
  },
  {
   "cell_type": "code",
   "execution_count": null,
   "id": "silent-washington",
   "metadata": {},
   "outputs": [],
   "source": [
    "# Reading csv file\n",
    "df = pd.read_csv('iris.csv')"
   ]
  },
  {
   "cell_type": "code",
   "execution_count": null,
   "id": "martial-occasion",
   "metadata": {},
   "outputs": [],
   "source": [
    "df.head()"
   ]
  },
  {
   "cell_type": "code",
   "execution_count": null,
   "id": "worth-cleveland",
   "metadata": {},
   "outputs": [],
   "source": [
    "# Getting info\n",
    "df.info()"
   ]
  },
  {
   "cell_type": "code",
   "execution_count": null,
   "id": "innocent-saver",
   "metadata": {},
   "outputs": [],
   "source": [
    "# Adjusting data set\n",
    "features = df.iloc[:,[0,1,2,3]].values\n",
    "features"
   ]
  },
  {
   "cell_type": "code",
   "execution_count": null,
   "id": "extra-badge",
   "metadata": {},
   "outputs": [],
   "source": [
    "# Finding the optimum number of clusters for k-means classification\n",
    "from sklearn.cluster import KMeans\n",
    "wcss = []\n",
    "for k in range(1,15):\n",
    "    kmeans = KMeans(n_clusters= k, init= 'k-means++', max_iter= 300, n_init= 10, random_state= 0)\n",
    "    kmeans.fit(features)\n",
    "    wcss.append(kmeans.inertia_)"
   ]
  },
  {
   "cell_type": "code",
   "execution_count": null,
   "id": "accepting-magnitude",
   "metadata": {},
   "outputs": [],
   "source": [
    "# Plotting the results onto a Line graph\n",
    "plt.figure(figsize=(20,10), dpi=300)\n",
    "plt.plot(range(1,15),wcss,\"-o\")\n",
    "plt.title(\"The Elbow Method\", fontsize = 28)\n",
    "plt.xlabel(\"Number of Clusters\", fontsize = 26)\n",
    "plt.ylabel(\"WCSS\",fontsize = 26)\n",
    "plt.grid(True)\n",
    "plt.show()"
   ]
  },
  {
   "cell_type": "code",
   "execution_count": null,
   "id": "crucial-border",
   "metadata": {},
   "outputs": [],
   "source": [
    "kmeans = KMeans(n_clusters = 3, init = 'k-means++',max_iter = 300,\n",
    "               n_init = 10, random_state = 0)\n",
    "y_kmeans = kmeans.fit_predict(features)\n",
    "y_kmeans"
   ]
  },
  {
   "cell_type": "code",
   "execution_count": null,
   "id": "white-access",
   "metadata": {},
   "outputs": [],
   "source": [
    "# Visualizing the clusters\n",
    "plt.scatter(features[y_kmeans == 0,0], features[y_kmeans == 0, 1],\n",
    "           s = 100, c = 'red', label = 'Iris-setosa')\n",
    "plt.scatter(features[y_kmeans == 1,0], features[y_kmeans == 1, 1],\n",
    "           s = 100, c = 'skyblue', label = 'Iris-versicolour')\n",
    "plt.scatter(features[y_kmeans == 2,0], features[y_kmeans == 2, 1],\n",
    "           s = 100, c = 'lightgreen', label = 'Iris-virginica')\n",
    "plt.scatter(kmeans.cluster_centers_[:,0], kmeans.cluster_centers_[:,1]\n",
    "            , s= 100, c = 'black', label = 'Centroids')\n",
    "plt.legend()"
   ]
  },
  {
   "cell_type": "code",
   "execution_count": null,
   "id": "corporate-slope",
   "metadata": {},
   "outputs": [],
   "source": []
  }
 ],
 "metadata": {
  "kernelspec": {
   "display_name": "Python 3",
   "language": "python",
   "name": "python3"
  },
  "language_info": {
   "codemirror_mode": {
    "name": "ipython",
    "version": 3
   },
   "file_extension": ".py",
   "mimetype": "text/x-python",
   "name": "python",
   "nbconvert_exporter": "python",
   "pygments_lexer": "ipython3",
   "version": "3.7.9"
  }
 },
 "nbformat": 4,
 "nbformat_minor": 5
}
